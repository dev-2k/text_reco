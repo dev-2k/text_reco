{
  "nbformat": 4,
  "nbformat_minor": 0,
  "metadata": {
    "colab": {
      "name": "Untitled0.ipynb",
      "private_outputs": true,
      "provenance": [],
      "collapsed_sections": [],
      "authorship_tag": "ABX9TyOETq157Vsznt79TRzuHKkW",
      "include_colab_link": true
    },
    "kernelspec": {
      "name": "python3",
      "display_name": "Python 3"
    },
    "language_info": {
      "name": "python"
    },
    "accelerator": "TPU"
  },
  "cells": [
    {
      "cell_type": "markdown",
      "metadata": {
        "id": "view-in-github",
        "colab_type": "text"
      },
      "source": [
        "<a href=\"https://colab.research.google.com/github/dev-2k/text_reco/blob/main/text%20recognition%202.ipynb\" target=\"_parent\"><img src=\"https://colab.research.google.com/assets/colab-badge.svg\" alt=\"Open In Colab\"/></a>"
      ]
    },
    {
      "cell_type": "code",
      "metadata": {
        "id": "VdR5BUqVKxhG"
      },
      "source": [
        "!pip install easyocr"
      ],
      "execution_count": null,
      "outputs": []
    },
    {
      "cell_type": "code",
      "metadata": {
        "id": "mKQ1XusnJ3DZ"
      },
      "source": [
        "import easyocr\n",
        "import cv2\n",
        "from matplotlib import pyplot as plt\n",
        "import numpy as np"
      ],
      "execution_count": null,
      "outputs": []
    },
    {
      "cell_type": "code",
      "metadata": {
        "id": "QGhWlMGGKPZt"
      },
      "source": [
        "!pip install torch torchvision torchaudio"
      ],
      "execution_count": null,
      "outputs": []
    },
    {
      "cell_type": "code",
      "metadata": {
        "id": "9SYesMcaLNKT"
      },
      "source": [
        "IMAGE_PATH = 'surf.jpeg'"
      ],
      "execution_count": null,
      "outputs": []
    },
    {
      "cell_type": "code",
      "metadata": {
        "id": "M_TSr1DpL4AC"
      },
      "source": [
        "reader = easyocr.Reader(['en'])\n",
        "result = reader.readtext(IMAGE_PATH)\n",
        "result"
      ],
      "execution_count": null,
      "outputs": []
    },
    {
      "cell_type": "code",
      "metadata": {
        "id": "n_im4bfiL6cM"
      },
      "source": [
        "top_left = tuple(result[0][0][0])\n",
        "bottom_right = tuple(result[0][0][2])\n",
        "text = result[0][1]\n",
        "font = cv2.FONT_HERSHEY_SIMPLEX\n",
        "print(text)"
      ],
      "execution_count": null,
      "outputs": []
    },
    {
      "cell_type": "code",
      "metadata": {
        "id": "9W394CP4MHIf"
      },
      "source": [
        "img = cv2.imread(IMAGE_PATH)\n",
        "img = cv2.rectangle(img,top_left,bottom_right,(0,255,0),3)\n",
        "img = cv2.putText(img,text,top_left, font, 0.5,(255,255,255),2,cv2.LINE_AA)\n",
        "plt.imshow(img)\n",
        "plt.show()"
      ],
      "execution_count": null,
      "outputs": []
    },
    {
      "cell_type": "code",
      "metadata": {
        "id": "Inl01OyFMIx8"
      },
      "source": [
        "IMAGE_PATH = 'sign.png'\n",
        "img = cv2.imread(IMAGE_PATH)\n",
        "reader = easyocr.Reader(['en'])\n",
        "result = reader.readtext(IMAGE_PATH)\n",
        "result\n",
        "spacer = 100\n",
        "for detection in result: \n",
        "    top_left = tuple(detection[0][0])\n",
        "    bottom_right = tuple(detection[0][2])\n",
        "    text = detection[1]\n",
        "    img = cv2.rectangle(img,top_left,bottom_right,(0,255,0),3)\n",
        "    img = cv2.putText(img,text,(20,spacer), font, 0.5,(0,255,0),2,cv2.LINE_AA)\n",
        "    spacer+=15\n",
        "    \n",
        "plt.imshow(img)\n",
        "plt.show()\n",
        "print(text)"
      ],
      "execution_count": null,
      "outputs": []
    },
    {
      "cell_type": "code",
      "metadata": {
        "id": "wkCGmzDxPUvk"
      },
      "source": [
        "IMAGE_PATH = 'Image1.jpeg'\n",
        "img = cv2.imread(IMAGE_PATH)\n",
        "reader = easyocr.Reader(['en'])\n",
        "result = reader.readtext(IMAGE_PATH)\n",
        "result\n",
        "# spacer = 100\n",
        "# for detection in result: \n",
        "#     top_left = tuple(detection[0][0])\n",
        "#     bottom_right = tuple(detection[0][2])\n",
        "#     text = detection[1]\n",
        "#     img = cv2.rectangle(img,top_left,bottom_right,(0,255,0),3)\n",
        "#     img = cv2.putText(img,text,(20,spacer), font, 0.5,(0,255,0),2,cv2.LINE_AA)\n",
        "#     spacer+=15\n",
        "    \n",
        "# plt.imshow(img)\n",
        "# plt.show()\n",
        "# print(text)"
      ],
      "execution_count": null,
      "outputs": []
    },
    {
      "cell_type": "code",
      "metadata": {
        "id": "YDWnilzqQ71A"
      },
      "source": [
        "img = cv2.imread(IMAGE_PATH)\n",
        "plt.imshow(img)\n",
        "plt.show()"
      ],
      "execution_count": null,
      "outputs": []
    },
    {
      "cell_type": "code",
      "metadata": {
        "id": "XjkjvCtLRtPT"
      },
      "source": [
        "result[0]"
      ],
      "execution_count": null,
      "outputs": []
    },
    {
      "cell_type": "code",
      "metadata": {
        "id": "ehZpSxWTR6Xt"
      },
      "source": [
        ""
      ],
      "execution_count": null,
      "outputs": []
    }
  ]
}